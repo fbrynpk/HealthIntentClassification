{
 "cells": [
  {
   "cell_type": "markdown",
   "metadata": {},
   "source": [
    "# Refit the model to suit healthcare services"
   ]
  },
  {
   "cell_type": "code",
   "execution_count": 2,
   "metadata": {},
   "outputs": [],
   "source": [
    "import nltk\n",
    "import re\n",
    "import pathlib\n",
    "\n",
    "from pathlib import Path\n",
    "from nltk.stem import WordNetLemmatizer "
   ]
  },
  {
   "cell_type": "code",
   "execution_count": 3,
   "metadata": {},
   "outputs": [
    {
     "data": {
      "text/html": [
       "<div>\n",
       "<style scoped>\n",
       "    .dataframe tbody tr th:only-of-type {\n",
       "        vertical-align: middle;\n",
       "    }\n",
       "\n",
       "    .dataframe tbody tr th {\n",
       "        vertical-align: top;\n",
       "    }\n",
       "\n",
       "    .dataframe thead th {\n",
       "        text-align: right;\n",
       "    }\n",
       "</style>\n",
       "<table border=\"1\" class=\"dataframe\">\n",
       "  <thead>\n",
       "    <tr style=\"text-align: right;\">\n",
       "      <th></th>\n",
       "      <th>audio_clipping</th>\n",
       "      <th>audio_clipping:confidence</th>\n",
       "      <th>background_noise_audible</th>\n",
       "      <th>background_noise_audible:confidence</th>\n",
       "      <th>overall_quality_of_the_audio</th>\n",
       "      <th>quiet_speaker</th>\n",
       "      <th>quiet_speaker:confidence</th>\n",
       "      <th>speaker_id</th>\n",
       "      <th>file_download</th>\n",
       "      <th>file_name</th>\n",
       "      <th>phrase</th>\n",
       "      <th>prompt</th>\n",
       "      <th>writer_id</th>\n",
       "    </tr>\n",
       "  </thead>\n",
       "  <tbody>\n",
       "    <tr>\n",
       "      <th>0</th>\n",
       "      <td>no_clipping</td>\n",
       "      <td>1.0000</td>\n",
       "      <td>light_noise</td>\n",
       "      <td>1.0000</td>\n",
       "      <td>3.33</td>\n",
       "      <td>audible_speaker</td>\n",
       "      <td>1.0</td>\n",
       "      <td>43453425</td>\n",
       "      <td>https://ml.sandbox.cf3.us/cgi-bin/index.cgi?do...</td>\n",
       "      <td>1249120_43453425_58166571.wav</td>\n",
       "      <td>When I remember her I feel down</td>\n",
       "      <td>Emotional pain</td>\n",
       "      <td>21665495</td>\n",
       "    </tr>\n",
       "    <tr>\n",
       "      <th>1</th>\n",
       "      <td>light_clipping</td>\n",
       "      <td>0.6803</td>\n",
       "      <td>no_noise</td>\n",
       "      <td>0.6803</td>\n",
       "      <td>3.33</td>\n",
       "      <td>audible_speaker</td>\n",
       "      <td>1.0</td>\n",
       "      <td>43719934</td>\n",
       "      <td>https://ml.sandbox.cf3.us/cgi-bin/index.cgi?do...</td>\n",
       "      <td>1249120_43719934_43347848.wav</td>\n",
       "      <td>When I carry heavy things I feel like breaking...</td>\n",
       "      <td>Hair falling out</td>\n",
       "      <td>44088126</td>\n",
       "    </tr>\n",
       "    <tr>\n",
       "      <th>2</th>\n",
       "      <td>no_clipping</td>\n",
       "      <td>1.0000</td>\n",
       "      <td>no_noise</td>\n",
       "      <td>0.6655</td>\n",
       "      <td>3.33</td>\n",
       "      <td>audible_speaker</td>\n",
       "      <td>1.0</td>\n",
       "      <td>43719934</td>\n",
       "      <td>https://ml.sandbox.cf3.us/cgi-bin/index.cgi?do...</td>\n",
       "      <td>1249120_43719934_53187202.wav</td>\n",
       "      <td>there is too much pain when i move my arm</td>\n",
       "      <td>Heart hurts</td>\n",
       "      <td>44292353</td>\n",
       "    </tr>\n",
       "    <tr>\n",
       "      <th>3</th>\n",
       "      <td>no_clipping</td>\n",
       "      <td>1.0000</td>\n",
       "      <td>light_noise</td>\n",
       "      <td>1.0000</td>\n",
       "      <td>3.33</td>\n",
       "      <td>audible_speaker</td>\n",
       "      <td>1.0</td>\n",
       "      <td>31349958</td>\n",
       "      <td>https://ml.sandbox.cf3.us/cgi-bin/index.cgi?do...</td>\n",
       "      <td>1249120_31349958_55816195.wav</td>\n",
       "      <td>My son had his lip pierced and it is swollen a...</td>\n",
       "      <td>Infected wound</td>\n",
       "      <td>43755034</td>\n",
       "    </tr>\n",
       "    <tr>\n",
       "      <th>4</th>\n",
       "      <td>no_clipping</td>\n",
       "      <td>1.0000</td>\n",
       "      <td>no_noise</td>\n",
       "      <td>1.0000</td>\n",
       "      <td>4.67</td>\n",
       "      <td>audible_speaker</td>\n",
       "      <td>1.0</td>\n",
       "      <td>43719934</td>\n",
       "      <td>https://ml.sandbox.cf3.us/cgi-bin/index.cgi?do...</td>\n",
       "      <td>1249120_43719934_82524191.wav</td>\n",
       "      <td>My muscles in my lower back are aching</td>\n",
       "      <td>Infected wound</td>\n",
       "      <td>21665495</td>\n",
       "    </tr>\n",
       "  </tbody>\n",
       "</table>\n",
       "</div>"
      ],
      "text/plain": [
       "   audio_clipping  audio_clipping:confidence background_noise_audible  \\\n",
       "0     no_clipping                     1.0000              light_noise   \n",
       "1  light_clipping                     0.6803                 no_noise   \n",
       "2     no_clipping                     1.0000                 no_noise   \n",
       "3     no_clipping                     1.0000              light_noise   \n",
       "4     no_clipping                     1.0000                 no_noise   \n",
       "\n",
       "   background_noise_audible:confidence  overall_quality_of_the_audio  \\\n",
       "0                               1.0000                          3.33   \n",
       "1                               0.6803                          3.33   \n",
       "2                               0.6655                          3.33   \n",
       "3                               1.0000                          3.33   \n",
       "4                               1.0000                          4.67   \n",
       "\n",
       "     quiet_speaker  quiet_speaker:confidence  speaker_id  \\\n",
       "0  audible_speaker                       1.0    43453425   \n",
       "1  audible_speaker                       1.0    43719934   \n",
       "2  audible_speaker                       1.0    43719934   \n",
       "3  audible_speaker                       1.0    31349958   \n",
       "4  audible_speaker                       1.0    43719934   \n",
       "\n",
       "                                       file_download  \\\n",
       "0  https://ml.sandbox.cf3.us/cgi-bin/index.cgi?do...   \n",
       "1  https://ml.sandbox.cf3.us/cgi-bin/index.cgi?do...   \n",
       "2  https://ml.sandbox.cf3.us/cgi-bin/index.cgi?do...   \n",
       "3  https://ml.sandbox.cf3.us/cgi-bin/index.cgi?do...   \n",
       "4  https://ml.sandbox.cf3.us/cgi-bin/index.cgi?do...   \n",
       "\n",
       "                       file_name  \\\n",
       "0  1249120_43453425_58166571.wav   \n",
       "1  1249120_43719934_43347848.wav   \n",
       "2  1249120_43719934_53187202.wav   \n",
       "3  1249120_31349958_55816195.wav   \n",
       "4  1249120_43719934_82524191.wav   \n",
       "\n",
       "                                              phrase            prompt  \\\n",
       "0                    When I remember her I feel down    Emotional pain   \n",
       "1  When I carry heavy things I feel like breaking...  Hair falling out   \n",
       "2          there is too much pain when i move my arm       Heart hurts   \n",
       "3  My son had his lip pierced and it is swollen a...    Infected wound   \n",
       "4             My muscles in my lower back are aching    Infected wound   \n",
       "\n",
       "   writer_id  \n",
       "0   21665495  \n",
       "1   44088126  \n",
       "2   44292353  \n",
       "3   43755034  \n",
       "4   21665495  "
      ]
     },
     "execution_count": 3,
     "metadata": {},
     "output_type": "execute_result"
    }
   ],
   "source": [
    "import pandas as pd\n",
    "\n",
    "df = pd.read_csv(\"../data/overview-of-recordings.csv\")\n",
    "df.head()"
   ]
  },
  {
   "cell_type": "markdown",
   "metadata": {},
   "source": [
    "## Dataset Preprocessing"
   ]
  },
  {
   "cell_type": "code",
   "execution_count": 4,
   "metadata": {},
   "outputs": [
    {
     "name": "stdout",
     "output_type": "stream",
     "text": [
      "The data contains 6661 rows and 13 columns.\n",
      "\n",
      "Dataset columns: Index(['audio_clipping', 'audio_clipping:confidence',\n",
      "       'background_noise_audible', 'background_noise_audible:confidence',\n",
      "       'overall_quality_of_the_audio', 'quiet_speaker',\n",
      "       'quiet_speaker:confidence', 'speaker_id', 'file_download', 'file_name',\n",
      "       'phrase', 'prompt', 'writer_id'],\n",
      "      dtype='object')\n",
      "\n",
      "<class 'pandas.core.frame.DataFrame'>\n",
      "RangeIndex: 6661 entries, 0 to 6660\n",
      "Data columns (total 13 columns):\n",
      " #   Column                               Non-Null Count  Dtype  \n",
      "---  ------                               --------------  -----  \n",
      " 0   audio_clipping                       6661 non-null   object \n",
      " 1   audio_clipping:confidence            6661 non-null   float64\n",
      " 2   background_noise_audible             6661 non-null   object \n",
      " 3   background_noise_audible:confidence  6661 non-null   float64\n",
      " 4   overall_quality_of_the_audio         6661 non-null   float64\n",
      " 5   quiet_speaker                        6661 non-null   object \n",
      " 6   quiet_speaker:confidence             6661 non-null   float64\n",
      " 7   speaker_id                           6661 non-null   int64  \n",
      " 8   file_download                        6661 non-null   object \n",
      " 9   file_name                            6661 non-null   object \n",
      " 10  phrase                               6661 non-null   object \n",
      " 11  prompt                               6661 non-null   object \n",
      " 12  writer_id                            6661 non-null   int64  \n",
      "dtypes: float64(4), int64(2), object(7)\n",
      "memory usage: 676.6+ KB\n",
      "None\n"
     ]
    }
   ],
   "source": [
    "#Analyze Data\n",
    "def explore_data(df):\n",
    "    print(f\"The data contains {df.shape[0]} rows and {df.shape[1]} columns.\\n\")\n",
    "    print(f'Dataset columns: {df.columns}\\n')\n",
    "    print(df.info())\n",
    "\n",
    "explore_data(df)"
   ]
  },
  {
   "cell_type": "markdown",
   "metadata": {},
   "source": [
    "## Check NaN Values and Duplicates"
   ]
  },
  {
   "cell_type": "code",
   "execution_count": 5,
   "metadata": {},
   "outputs": [
    {
     "data": {
      "text/plain": [
       "audio_clipping                         0\n",
       "audio_clipping:confidence              0\n",
       "background_noise_audible               0\n",
       "background_noise_audible:confidence    0\n",
       "overall_quality_of_the_audio           0\n",
       "quiet_speaker                          0\n",
       "quiet_speaker:confidence               0\n",
       "speaker_id                             0\n",
       "file_download                          0\n",
       "file_name                              0\n",
       "phrase                                 0\n",
       "prompt                                 0\n",
       "writer_id                              0\n",
       "dtype: int64"
      ]
     },
     "execution_count": 5,
     "metadata": {},
     "output_type": "execute_result"
    }
   ],
   "source": [
    "df.isna().sum()"
   ]
  },
  {
   "cell_type": "code",
   "execution_count": 6,
   "metadata": {},
   "outputs": [
    {
     "name": "stdout",
     "output_type": "stream",
     "text": [
      "Number of Duplicates:  0\n",
      "No Duplicate values\n"
     ]
    }
   ],
   "source": [
    "def checking_removing_duplicates(df):\n",
    "    count_dups = df.duplicated().sum()\n",
    "    print(\"Number of Duplicates: \", count_dups)\n",
    "    if count_dups >= 1:\n",
    "        df.drop_duplicates(inplace=True)\n",
    "        print('Duplicate values removed!')\n",
    "    else:\n",
    "        print('No Duplicate values')\n",
    "checking_removing_duplicates(df)"
   ]
  },
  {
   "cell_type": "code",
   "execution_count": 7,
   "metadata": {},
   "outputs": [
    {
     "data": {
      "text/html": [
       "<div>\n",
       "<style scoped>\n",
       "    .dataframe tbody tr th:only-of-type {\n",
       "        vertical-align: middle;\n",
       "    }\n",
       "\n",
       "    .dataframe tbody tr th {\n",
       "        vertical-align: top;\n",
       "    }\n",
       "\n",
       "    .dataframe thead th {\n",
       "        text-align: right;\n",
       "    }\n",
       "</style>\n",
       "<table border=\"1\" class=\"dataframe\">\n",
       "  <thead>\n",
       "    <tr style=\"text-align: right;\">\n",
       "      <th></th>\n",
       "      <th>phrase</th>\n",
       "      <th>prompt</th>\n",
       "    </tr>\n",
       "  </thead>\n",
       "  <tbody>\n",
       "    <tr>\n",
       "      <th>0</th>\n",
       "      <td>When I remember her I feel down</td>\n",
       "      <td>Emotional pain</td>\n",
       "    </tr>\n",
       "    <tr>\n",
       "      <th>1</th>\n",
       "      <td>When I carry heavy things I feel like breaking...</td>\n",
       "      <td>Hair falling out</td>\n",
       "    </tr>\n",
       "    <tr>\n",
       "      <th>2</th>\n",
       "      <td>there is too much pain when i move my arm</td>\n",
       "      <td>Heart hurts</td>\n",
       "    </tr>\n",
       "    <tr>\n",
       "      <th>3</th>\n",
       "      <td>My son had his lip pierced and it is swollen a...</td>\n",
       "      <td>Infected wound</td>\n",
       "    </tr>\n",
       "    <tr>\n",
       "      <th>4</th>\n",
       "      <td>My muscles in my lower back are aching</td>\n",
       "      <td>Infected wound</td>\n",
       "    </tr>\n",
       "  </tbody>\n",
       "</table>\n",
       "</div>"
      ],
      "text/plain": [
       "                                              phrase            prompt\n",
       "0                    When I remember her I feel down    Emotional pain\n",
       "1  When I carry heavy things I feel like breaking...  Hair falling out\n",
       "2          there is too much pain when i move my arm       Heart hurts\n",
       "3  My son had his lip pierced and it is swollen a...    Infected wound\n",
       "4             My muscles in my lower back are aching    Infected wound"
      ]
     },
     "execution_count": 7,
     "metadata": {},
     "output_type": "execute_result"
    }
   ],
   "source": [
    "df_text = df[['phrase', 'prompt']]\n",
    "df_text.head()"
   ]
  },
  {
   "cell_type": "markdown",
   "metadata": {},
   "source": [
    "## Text Cleaning\n",
    "\n",
    "1. Load raw text data\n",
    "2. Split into token\n",
    "3. Convert to lowercase\n",
    "4. Remove punctuation from each token\n",
    "5. Filter out non-alphabetic tokens\n",
    "6. Filter out stop words"
   ]
  },
  {
   "cell_type": "code",
   "execution_count": 8,
   "metadata": {},
   "outputs": [],
   "source": [
    "def clean_text(docs):\n",
    "  # Reducing the different forms of a word to one single form\n",
    "  lemmatizer = WordNetLemmatizer()\n",
    "  # Split into words\n",
    "  words = nltk.word_tokenize(docs)\n",
    "  # Convert to lower case\n",
    "  lower_case = [w.lower() for w in words]\n",
    "  # Remove punctuation from each word\n",
    "  remove_punctuation = [re.sub(r'[^\\w\\s]', '', w) for w in lower_case]\n",
    "  # Remove non-alphabetic tokens\n",
    "  words = [word for word in remove_punctuation if word.isalpha()]\n",
    "  # Filter stop words\n",
    "  words = [w for w in words if w not in nltk.corpus.stopwords.words('english')]\n",
    "  # Filter out short tokens\n",
    "  words = [word for word in words if len(word) > 2]\n",
    "  # Stem all the words in the sentence\n",
    "  lem_words = [lemmatizer.lemmatize(word) for word in words]\n",
    "  combined_text = ' '.join(lem_words)\n",
    "  return combined_text"
   ]
  },
  {
   "cell_type": "code",
   "execution_count": 9,
   "metadata": {},
   "outputs": [],
   "source": [
    "def clean_text_2(docs):\n",
    "  # Reducing the different forms of a word to one single form\n",
    "  lemmatizer = WordNetLemmatizer()\n",
    "  # Split into words\n",
    "  words = nltk.word_tokenize(docs)\n",
    "  # Convert to lower case\n",
    "  lower_case = [w.lower() for w in words]\n",
    "  # Remove punctuation from each word\n",
    "  remove_punctuation = [re.sub(r'[^\\w\\s]', '', w) for w in lower_case]\n",
    "  # Remove non-alphabetic tokens\n",
    "  words = [word for word in remove_punctuation if word.isalpha()]\n",
    "  # Stem all the words in the sentence\n",
    "  lem_words = [lemmatizer.lemmatize(word) for word in words]\n",
    "  combined_text = ' '.join(lem_words)\n",
    "  return combined_text"
   ]
  },
  {
   "cell_type": "code",
   "execution_count": 10,
   "metadata": {},
   "outputs": [
    {
     "name": "stderr",
     "output_type": "stream",
     "text": [
      "/var/folders/kk/rt5sttrx6psck2z095w2rzr40000gn/T/ipykernel_40043/3553022123.py:1: SettingWithCopyWarning: \n",
      "A value is trying to be set on a copy of a slice from a DataFrame.\n",
      "Try using .loc[row_indexer,col_indexer] = value instead\n",
      "\n",
      "See the caveats in the documentation: https://pandas.pydata.org/pandas-docs/stable/user_guide/indexing.html#returning-a-view-versus-a-copy\n",
      "  df_text['phrase'] = df['phrase'].apply(clean_text)\n"
     ]
    },
    {
     "data": {
      "text/html": [
       "<div>\n",
       "<style scoped>\n",
       "    .dataframe tbody tr th:only-of-type {\n",
       "        vertical-align: middle;\n",
       "    }\n",
       "\n",
       "    .dataframe tbody tr th {\n",
       "        vertical-align: top;\n",
       "    }\n",
       "\n",
       "    .dataframe thead th {\n",
       "        text-align: right;\n",
       "    }\n",
       "</style>\n",
       "<table border=\"1\" class=\"dataframe\">\n",
       "  <thead>\n",
       "    <tr style=\"text-align: right;\">\n",
       "      <th></th>\n",
       "      <th>phrase</th>\n",
       "      <th>prompt</th>\n",
       "    </tr>\n",
       "  </thead>\n",
       "  <tbody>\n",
       "    <tr>\n",
       "      <th>0</th>\n",
       "      <td>remember feel</td>\n",
       "      <td>Emotional pain</td>\n",
       "    </tr>\n",
       "    <tr>\n",
       "      <th>1</th>\n",
       "      <td>carry heavy thing feel like breaking back</td>\n",
       "      <td>Hair falling out</td>\n",
       "    </tr>\n",
       "    <tr>\n",
       "      <th>2</th>\n",
       "      <td>much pain move arm</td>\n",
       "      <td>Heart hurts</td>\n",
       "    </tr>\n",
       "    <tr>\n",
       "      <th>3</th>\n",
       "      <td>son lip pierced swollen skin inside lip grey l...</td>\n",
       "      <td>Infected wound</td>\n",
       "    </tr>\n",
       "    <tr>\n",
       "      <th>4</th>\n",
       "      <td>muscle lower back aching</td>\n",
       "      <td>Infected wound</td>\n",
       "    </tr>\n",
       "  </tbody>\n",
       "</table>\n",
       "</div>"
      ],
      "text/plain": [
       "                                              phrase            prompt\n",
       "0                                      remember feel    Emotional pain\n",
       "1          carry heavy thing feel like breaking back  Hair falling out\n",
       "2                                 much pain move arm       Heart hurts\n",
       "3  son lip pierced swollen skin inside lip grey l...    Infected wound\n",
       "4                           muscle lower back aching    Infected wound"
      ]
     },
     "execution_count": 10,
     "metadata": {},
     "output_type": "execute_result"
    }
   ],
   "source": [
    "df_text['phrase'] = df['phrase'].apply(clean_text)\n",
    "df_text.head(5)"
   ]
  },
  {
   "cell_type": "markdown",
   "metadata": {},
   "source": [
    "## Defining labels"
   ]
  },
  {
   "cell_type": "code",
   "execution_count": 11,
   "metadata": {},
   "outputs": [],
   "source": [
    "s = set(list(df['prompt']))\n",
    "j = 0\n",
    "labels = {}\n",
    "for i in s:\n",
    "  labels[i] = j\n",
    "  j+=1"
   ]
  },
  {
   "cell_type": "code",
   "execution_count": 12,
   "metadata": {},
   "outputs": [
    {
     "data": {
      "text/plain": [
       "PosixPath('../class_names.txt')"
      ]
     },
     "execution_count": 12,
     "metadata": {},
     "output_type": "execute_result"
    }
   ],
   "source": [
    "# Create path to save class names\n",
    "class_names_path = Path(\"../class_names.txt\")\n",
    "class_names_path"
   ]
  },
  {
   "cell_type": "code",
   "execution_count": 13,
   "metadata": {},
   "outputs": [
    {
     "name": "stdout",
     "output_type": "stream",
     "text": [
      "[INFO] Saving prompt class names to text file at: ../class_names.txt\n"
     ]
    }
   ],
   "source": [
    "# Write class names to text file\n",
    "with open(class_names_path, \"w\") as f:\n",
    "  print(f\"[INFO] Saving prompt class names to text file at: {class_names_path}\")\n",
    "  f.write(\"\\n\".join(labels)) # new line per class name"
   ]
  },
  {
   "cell_type": "code",
   "execution_count": 14,
   "metadata": {},
   "outputs": [],
   "source": [
    "df = df_text.copy()"
   ]
  },
  {
   "cell_type": "code",
   "execution_count": 15,
   "metadata": {},
   "outputs": [
    {
     "data": {
      "text/html": [
       "<div>\n",
       "<style scoped>\n",
       "    .dataframe tbody tr th:only-of-type {\n",
       "        vertical-align: middle;\n",
       "    }\n",
       "\n",
       "    .dataframe tbody tr th {\n",
       "        vertical-align: top;\n",
       "    }\n",
       "\n",
       "    .dataframe thead th {\n",
       "        text-align: right;\n",
       "    }\n",
       "</style>\n",
       "<table border=\"1\" class=\"dataframe\">\n",
       "  <thead>\n",
       "    <tr style=\"text-align: right;\">\n",
       "      <th></th>\n",
       "      <th>phrase</th>\n",
       "      <th>prompt</th>\n",
       "    </tr>\n",
       "  </thead>\n",
       "  <tbody>\n",
       "    <tr>\n",
       "      <th>0</th>\n",
       "      <td>remember feel</td>\n",
       "      <td>Emotional pain</td>\n",
       "    </tr>\n",
       "    <tr>\n",
       "      <th>1</th>\n",
       "      <td>carry heavy thing feel like breaking back</td>\n",
       "      <td>Hair falling out</td>\n",
       "    </tr>\n",
       "    <tr>\n",
       "      <th>2</th>\n",
       "      <td>much pain move arm</td>\n",
       "      <td>Heart hurts</td>\n",
       "    </tr>\n",
       "    <tr>\n",
       "      <th>3</th>\n",
       "      <td>son lip pierced swollen skin inside lip grey l...</td>\n",
       "      <td>Infected wound</td>\n",
       "    </tr>\n",
       "    <tr>\n",
       "      <th>4</th>\n",
       "      <td>muscle lower back aching</td>\n",
       "      <td>Infected wound</td>\n",
       "    </tr>\n",
       "    <tr>\n",
       "      <th>...</th>\n",
       "      <td>...</td>\n",
       "      <td>...</td>\n",
       "    </tr>\n",
       "    <tr>\n",
       "      <th>6656</th>\n",
       "      <td>feel burning sensation gut hour meal</td>\n",
       "      <td>Stomach ache</td>\n",
       "    </tr>\n",
       "    <tr>\n",
       "      <th>6657</th>\n",
       "      <td>split thumb heal</td>\n",
       "      <td>Open wound</td>\n",
       "    </tr>\n",
       "    <tr>\n",
       "      <th>6658</th>\n",
       "      <td>feel lot pain joint</td>\n",
       "      <td>Joint pain</td>\n",
       "    </tr>\n",
       "    <tr>\n",
       "      <th>6659</th>\n",
       "      <td>area around heart feel good</td>\n",
       "      <td>Heart hurts</td>\n",
       "    </tr>\n",
       "    <tr>\n",
       "      <th>6660</th>\n",
       "      <td>complain alot skin allergy</td>\n",
       "      <td>Skin issue</td>\n",
       "    </tr>\n",
       "  </tbody>\n",
       "</table>\n",
       "<p>6661 rows × 2 columns</p>\n",
       "</div>"
      ],
      "text/plain": [
       "                                                 phrase            prompt\n",
       "0                                         remember feel    Emotional pain\n",
       "1             carry heavy thing feel like breaking back  Hair falling out\n",
       "2                                    much pain move arm       Heart hurts\n",
       "3     son lip pierced swollen skin inside lip grey l...    Infected wound\n",
       "4                              muscle lower back aching    Infected wound\n",
       "...                                                 ...               ...\n",
       "6656               feel burning sensation gut hour meal      Stomach ache\n",
       "6657                                   split thumb heal        Open wound\n",
       "6658                                feel lot pain joint        Joint pain\n",
       "6659                        area around heart feel good       Heart hurts\n",
       "6660                         complain alot skin allergy        Skin issue\n",
       "\n",
       "[6661 rows x 2 columns]"
      ]
     },
     "execution_count": 15,
     "metadata": {},
     "output_type": "execute_result"
    }
   ],
   "source": [
    "df"
   ]
  },
  {
   "cell_type": "code",
   "execution_count": 16,
   "metadata": {},
   "outputs": [
    {
     "name": "stderr",
     "output_type": "stream",
     "text": [
      "/Users/fbrynpk/anaconda3/envs/baymax_lite/lib/python3.11/site-packages/tqdm/auto.py:21: TqdmWarning: IProgress not found. Please update jupyter and ipywidgets. See https://ipywidgets.readthedocs.io/en/stable/user_install.html\n",
      "  from .autonotebook import tqdm as notebook_tqdm\n"
     ]
    }
   ],
   "source": [
    "import transformers\n",
    "import torch\n",
    "\n",
    "from transformers import BertTokenizer, BertModel\n",
    "\n",
    "tokenizer = BertTokenizer.from_pretrained('bert-base-cased')\n",
    "\n",
    "class Dataset(torch.utils.data.Dataset):\n",
    "\n",
    "    def __init__(self, df):\n",
    "\n",
    "        self.labels = [labels[label] for label in df['prompt']]\n",
    "        self.texts = [tokenizer(text, padding='max_length', max_length = 20, truncation=True,return_tensors=\"pt\") for text in df['phrase']]\n",
    "\n",
    "\n",
    "    def __len__(self):\n",
    "        return len(self.labels)\n",
    "\n",
    "    def get_batch_labels(self, idx):\n",
    "        return np.array(self.labels[idx])\n",
    "\n",
    "    def get_batch_texts(self, idx):\n",
    "        return self.texts[idx]\n",
    "\n",
    "    def __getitem__(self, idx):\n",
    "        batch_texts = self.get_batch_texts(idx)\n",
    "        batch_y = self.get_batch_labels(idx)\n",
    "\n",
    "        return batch_texts, batch_y\n",
    "  "
   ]
  },
  {
   "cell_type": "code",
   "execution_count": 17,
   "metadata": {},
   "outputs": [],
   "source": [
    "from torch import nn\n",
    "\n",
    "class BertClassifier(nn.Module):\n",
    "\n",
    "    def __init__(self, dropout=0.3):\n",
    "\n",
    "        super(BertClassifier, self).__init__()\n",
    "        self.bert = BertModel.from_pretrained('bert-base-cased')\n",
    "        self.dropout = nn.Dropout(dropout)\n",
    "        self.linear = nn.Linear(768, len(labels))\n",
    "\n",
    "    def forward(self, input_id, mask):\n",
    "\n",
    "        _, pooled_output = self.bert(input_ids= input_id, attention_mask=mask,return_dict=False)\n",
    "        dropped_output = self.dropout(pooled_output)\n",
    "        linear_output = self.linear(dropped_output)\n",
    "\n",
    "\n",
    "        return (linear_output)"
   ]
  },
  {
   "cell_type": "code",
   "execution_count": 18,
   "metadata": {},
   "outputs": [],
   "source": [
    "custom_model = BertClassifier()"
   ]
  },
  {
   "cell_type": "code",
   "execution_count": 19,
   "metadata": {},
   "outputs": [
    {
     "data": {
      "text/plain": [
       "BertClassifier(\n",
       "  (bert): BertModel(\n",
       "    (embeddings): BertEmbeddings(\n",
       "      (word_embeddings): Embedding(28996, 768, padding_idx=0)\n",
       "      (position_embeddings): Embedding(512, 768)\n",
       "      (token_type_embeddings): Embedding(2, 768)\n",
       "      (LayerNorm): LayerNorm((768,), eps=1e-12, elementwise_affine=True)\n",
       "      (dropout): Dropout(p=0.1, inplace=False)\n",
       "    )\n",
       "    (encoder): BertEncoder(\n",
       "      (layer): ModuleList(\n",
       "        (0-11): 12 x BertLayer(\n",
       "          (attention): BertAttention(\n",
       "            (self): BertSelfAttention(\n",
       "              (query): Linear(in_features=768, out_features=768, bias=True)\n",
       "              (key): Linear(in_features=768, out_features=768, bias=True)\n",
       "              (value): Linear(in_features=768, out_features=768, bias=True)\n",
       "              (dropout): Dropout(p=0.1, inplace=False)\n",
       "            )\n",
       "            (output): BertSelfOutput(\n",
       "              (dense): Linear(in_features=768, out_features=768, bias=True)\n",
       "              (LayerNorm): LayerNorm((768,), eps=1e-12, elementwise_affine=True)\n",
       "              (dropout): Dropout(p=0.1, inplace=False)\n",
       "            )\n",
       "          )\n",
       "          (intermediate): BertIntermediate(\n",
       "            (dense): Linear(in_features=768, out_features=3072, bias=True)\n",
       "            (intermediate_act_fn): GELUActivation()\n",
       "          )\n",
       "          (output): BertOutput(\n",
       "            (dense): Linear(in_features=3072, out_features=768, bias=True)\n",
       "            (LayerNorm): LayerNorm((768,), eps=1e-12, elementwise_affine=True)\n",
       "            (dropout): Dropout(p=0.1, inplace=False)\n",
       "          )\n",
       "        )\n",
       "      )\n",
       "    )\n",
       "    (pooler): BertPooler(\n",
       "      (dense): Linear(in_features=768, out_features=768, bias=True)\n",
       "      (activation): Tanh()\n",
       "    )\n",
       "  )\n",
       "  (dropout): Dropout(p=0.3, inplace=False)\n",
       "  (linear): Linear(in_features=768, out_features=25, bias=True)\n",
       ")"
      ]
     },
     "execution_count": 19,
     "metadata": {},
     "output_type": "execute_result"
    }
   ],
   "source": [
    "custom_model"
   ]
  },
  {
   "cell_type": "code",
   "execution_count": 20,
   "metadata": {},
   "outputs": [
    {
     "name": "stdout",
     "output_type": "stream",
     "text": [
      "5328 1333\n"
     ]
    }
   ],
   "source": [
    "import numpy as np\n",
    "\n",
    "df_train, df_val = np.split(df.sample(frac=1, random_state=42), [int(.8*len(df))])\n",
    "\n",
    "print(len(df_train), len(df_val))"
   ]
  },
  {
   "cell_type": "code",
   "execution_count": 21,
   "metadata": {},
   "outputs": [],
   "source": [
    "train, val = Dataset(df_train), Dataset(df_val)"
   ]
  },
  {
   "cell_type": "code",
   "execution_count": 22,
   "metadata": {},
   "outputs": [],
   "source": [
    "from tqdm.auto import tqdm\n",
    "\n",
    "def train(model, train_data, val_data, learning_rate, epochs):\n",
    "    train, val = Dataset(train_data), Dataset(val_data)\n",
    "\n",
    "    train_dataloader = torch.utils.data.DataLoader(train, batch_size=128, shuffle=True)\n",
    "    val_dataloader = torch.utils.data.DataLoader(val, batch_size=128)\n",
    "\n",
    "    if torch.backends.mps.is_available():\n",
    "        device = 'mps'\n",
    "    elif torch.cuda.is_available():\n",
    "        device = 'cuda'\n",
    "    else:\n",
    "        device = 'cpu'\n",
    "        \n",
    "    results = {\"train_loss\": [], \"train_acc\": [], \"test_loss\": [], \"test_acc\": []}\n",
    "\n",
    "    model = model.to(device)\n",
    "    criterion = torch.nn.CrossEntropyLoss(label_smoothing=0.1).to(device)\n",
    "    optimizer = torch.optim.Adam(model.parameters(), lr=learning_rate)\n",
    "\n",
    "    for epoch_num in range(epochs):\n",
    "\n",
    "            total_acc_train = 0\n",
    "            total_loss_train = 0\n",
    "\n",
    "            for train_input, train_label in tqdm(train_dataloader):\n",
    "\n",
    "                train_label = train_label.to(device)\n",
    "                mask = train_input['attention_mask'].to(device)\n",
    "                input_id = train_input['input_ids'].squeeze(1).to(device)\n",
    "\n",
    "                output = model(input_id, mask)\n",
    "                batch_loss = criterion(output, train_label.long())\n",
    "                total_loss_train += batch_loss.item()\n",
    "                \n",
    "                \n",
    "                train_label=train_label.to(device)\n",
    "                output=output.to(device)\n",
    "                acc = (output.argmax(dim=1) == train_label).sum().item()\n",
    "                total_acc_train += acc\n",
    "\n",
    "                optimizer.zero_grad()\n",
    "                batch_loss.backward()\n",
    "                optimizer.step()\n",
    "\n",
    "            \n",
    "            total_acc_val = 0\n",
    "            total_loss_val = 0\n",
    "            \n",
    "            model.eval()\n",
    "            with torch.inference_mode():\n",
    "\n",
    "                for val_input, val_label in val_dataloader:\n",
    "\n",
    "                    val_label = val_label.to(device)\n",
    "                    mask = val_input['attention_mask'].to(device)\n",
    "                    input_id = val_input['input_ids'].squeeze(1).to(device)\n",
    "                    output = model(input_id, mask)\n",
    "\n",
    "                    batch_loss = criterion(output, val_label.long())\n",
    "                    total_loss_val += batch_loss.item()\n",
    "                    \n",
    "                    acc = (output.argmax(dim=1) == val_label).sum().item()\n",
    "                    total_acc_val += acc\n",
    "                    \n",
    "            \n",
    "            print(\n",
    "                f'Epochs: {epoch_num + 1} | Train Loss: {total_loss_train / len(train_data):.3f} \\\n",
    "                | Train Accuracy: {total_acc_train / len(train_data):.3f} \\\n",
    "                | Val Loss: {total_loss_val / len(val_data):.3f} \\\n",
    "                | Val Accuracy: {total_acc_val / len(val_data):.3f}')\n",
    "            \n",
    "            results['train_loss'].append(total_loss_train/len(train_data))\n",
    "            results['test_loss'].append(total_loss_val/len(val_data))\n",
    "            results['train_acc'].append(total_acc_train/len(train_data))\n",
    "            results['test_acc'].append(total_acc_val/len(val_data))\n",
    "            \n",
    "    return results"
   ]
  },
  {
   "cell_type": "code",
   "execution_count": 23,
   "metadata": {},
   "outputs": [
    {
     "name": "stderr",
     "output_type": "stream",
     "text": [
      "  0%|          | 0/42 [00:00<?, ?it/s]/Users/fbrynpk/anaconda3/envs/baymax_lite/lib/python3.11/site-packages/torch/autograd/__init__.py:200: UserWarning: The operator 'aten::masked_scatter_' is not currently supported on the MPS backend and will fall back to run on the CPU. This may have performance implications. (Triggered internally at /Users/runner/work/pytorch/pytorch/pytorch/aten/src/ATen/mps/MPSFallback.mm:11.)\n",
      "  Variable._execution_engine.run_backward(  # Calls into the C++ engine to run the backward pass\n",
      "100%|██████████| 42/42 [00:30<00:00,  1.38it/s]\n"
     ]
    },
    {
     "name": "stdout",
     "output_type": "stream",
     "text": [
      "Epochs: 1 | Train Loss: 0.024                 | Train Accuracy: 0.134                 | Val Loss: 0.022                 | Val Accuracy: 0.491\n"
     ]
    },
    {
     "name": "stderr",
     "output_type": "stream",
     "text": [
      "100%|██████████| 42/42 [00:29<00:00,  1.40it/s]\n"
     ]
    },
    {
     "name": "stdout",
     "output_type": "stream",
     "text": [
      "Epochs: 2 | Train Loss: 0.018                 | Train Accuracy: 0.736                 | Val Loss: 0.015                 | Val Accuracy: 0.893\n"
     ]
    },
    {
     "name": "stderr",
     "output_type": "stream",
     "text": [
      "100%|██████████| 42/42 [00:28<00:00,  1.45it/s]\n"
     ]
    },
    {
     "name": "stdout",
     "output_type": "stream",
     "text": [
      "Epochs: 3 | Train Loss: 0.011                 | Train Accuracy: 0.940                 | Val Loss: 0.010                 | Val Accuracy: 0.960\n"
     ]
    },
    {
     "name": "stderr",
     "output_type": "stream",
     "text": [
      "100%|██████████| 42/42 [00:28<00:00,  1.46it/s]\n"
     ]
    },
    {
     "name": "stdout",
     "output_type": "stream",
     "text": [
      "Epochs: 4 | Train Loss: 0.008                 | Train Accuracy: 0.987                 | Val Loss: 0.007                 | Val Accuracy: 0.996\n"
     ]
    },
    {
     "name": "stderr",
     "output_type": "stream",
     "text": [
      "100%|██████████| 42/42 [00:29<00:00,  1.44it/s]\n"
     ]
    },
    {
     "name": "stdout",
     "output_type": "stream",
     "text": [
      "Epochs: 5 | Train Loss: 0.006                 | Train Accuracy: 0.997                 | Val Loss: 0.006                 | Val Accuracy: 0.996\n"
     ]
    }
   ],
   "source": [
    "results = train(custom_model, df_train, df_val, 1e-5, 5)"
   ]
  },
  {
   "cell_type": "code",
   "execution_count": 25,
   "metadata": {},
   "outputs": [
    {
     "data": {
      "image/png": "[encoded data removed]",
      "text/plain": [
       "<Figure size 1500x700 with 2 Axes>"
      ]
     },
     "metadata": {},
     "output_type": "display_data"
    }
   ],
   "source": [
    "import matplotlib.pyplot as plt\n",
    "\n",
    "# Plot loss curves model\n",
    "def plot_loss_curves(results):\n",
    "    \"\"\"Plots training curves of a results dictionary.\n",
    "\n",
    "    Args:\n",
    "        results (dict): dictionary containing list of values, e.g.\n",
    "            {\"train_loss\": [...],\n",
    "             \"train_acc\": [...],\n",
    "             \"test_loss\": [...],\n",
    "             \"test_acc\": [...]}\n",
    "    \"\"\"\n",
    "    loss = results[\"train_loss\"]\n",
    "    test_loss = results[\"test_loss\"]\n",
    "\n",
    "    accuracy = results[\"train_acc\"]\n",
    "    test_accuracy = results[\"test_acc\"]\n",
    "\n",
    "    epochs = range(len(results[\"train_loss\"]))\n",
    "\n",
    "    plt.figure(figsize=(15, 7))\n",
    "\n",
    "    # Plot loss\n",
    "    plt.subplot(1, 2, 1)\n",
    "    plt.plot(epochs, loss, label=\"train_loss\")\n",
    "    plt.plot(epochs, test_loss, label=\"test_loss\")\n",
    "    plt.title(\"Loss\")\n",
    "    plt.xlabel(\"Epochs\")\n",
    "    plt.legend()\n",
    "\n",
    "    # Plot accuracy\n",
    "    plt.subplot(1, 2, 2)\n",
    "    plt.plot(epochs, accuracy, label=\"train_accuracy\")\n",
    "    plt.plot(epochs, test_accuracy, label=\"test_accuracy\")\n",
    "    plt.title(\"Accuracy\")\n",
    "    plt.xlabel(\"Epochs\")\n",
    "    plt.legend()\n",
    "    \n",
    "plot_loss_curves(results)"
   ]
  },
  {
   "cell_type": "code",
   "execution_count": 26,
   "metadata": {},
   "outputs": [],
   "source": [
    "# %%writefile predict.py\n",
    "\n",
    "def predict(model, text):\n",
    "    text = text.lower()\n",
    "    text_dict = tokenizer(text, padding='max_length', max_length = 20, truncation=True, return_tensors=\"pt\")\n",
    "    use_mps = torch.backends.mps.is_available()\n",
    "    device = torch.device(\"mps\" if use_mps else \"cpu\")\n",
    "    model = model.to(device)\n",
    "    mask = text_dict['attention_mask'].to(device)\n",
    "    input_id = text_dict['input_ids'].squeeze(1).to(device)\n",
    "        \n",
    "    model.eval() \n",
    "    with torch.inference_mode():\n",
    "        output = model(input_id, mask)\n",
    "        label_id = output.argmax(dim=1).item()\n",
    "        return label_id"
   ]
  },
  {
   "cell_type": "code",
   "execution_count": 28,
   "metadata": {},
   "outputs": [],
   "source": [
    "# Setup labels for prediction\n",
    "with open(\"../class_names.txt\", \"r\") as f:\n",
    "  class_names = [prompt.strip() for prompt in f.readlines()]"
   ]
  },
  {
   "cell_type": "code",
   "execution_count": 61,
   "metadata": {},
   "outputs": [
    {
     "name": "stdout",
     "output_type": "stream",
     "text": [
      "You might have symptomps of Emotional pain, please seek some medical help!\n"
     ]
    }
   ],
   "source": [
    "custom_model.eval()\n",
    "prediction=predict(custom_model, text=\"I FEEL SAD\")\n",
    "print(f\"You might have symptomps of {labels[prediction]}, please seek some medical help!\")"
   ]
  },
  {
   "cell_type": "code",
   "execution_count": 34,
   "metadata": {},
   "outputs": [
    {
     "name": "stdout",
     "output_type": "stream",
     "text": [
      "Saving model to ../models/FirstAidClassifier.pth\n"
     ]
    }
   ],
   "source": [
    "target_dir_path = Path('../models/')\n",
    "target_dir_path.mkdir(parents=True, exist_ok=True)\n",
    "\n",
    "model_save_path = target_dir_path / \"FirstAidClassifier.pth\"\n",
    "\n",
    "# Save model\n",
    "print(f\"Saving model to {model_save_path}\")\n",
    "torch.save(obj=custom_model.state_dict(), f=model_save_path)"
   ]
  },
  {
   "cell_type": "code",
   "execution_count": 41,
   "metadata": {},
   "outputs": [
    {
     "data": {
      "text/plain": [
       "<All keys matched successfully>"
      ]
     },
     "execution_count": 41,
     "metadata": {},
     "output_type": "execute_result"
    }
   ],
   "source": [
    "model_loaded = BertClassifier()\n",
    "model_loaded.load_state_dict(torch.load('../models/FirstAidClassifier.pth'))"
   ]
  },
  {
   "cell_type": "code",
   "execution_count": 43,
   "metadata": {},
   "outputs": [],
   "source": [
    "with open(\"../class_names.txt\", \"r\") as f:\n",
    "  labels = [prompt.strip() for prompt in f.readlines()]"
   ]
  },
  {
   "cell_type": "code",
   "execution_count": 62,
   "metadata": {},
   "outputs": [],
   "source": [
    "transcript = \"I FEEL SAD\""
   ]
  },
  {
   "cell_type": "code",
   "execution_count": 63,
   "metadata": {},
   "outputs": [
    {
     "name": "stdout",
     "output_type": "stream",
     "text": [
      "You might have symptomps of Emotional pain, please seek some medical help!\n"
     ]
    }
   ],
   "source": [
    "prediction=predict(model_loaded, text=transcript)\n",
    "print(f\"You might have symptomps of {labels[prediction]}, please seek some medical help!\")"
   ]
  }
 ],
 "metadata": {
  "kernelspec": {
   "display_name": "Python 3",
   "language": "python",
   "name": "python3"
  },
  "language_info": {
   "codemirror_mode": {
    "name": "ipython",
    "version": 3
   },
   "file_extension": ".py",
   "mimetype": "text/x-python",
   "name": "python",
   "nbconvert_exporter": "python",
   "pygments_lexer": "ipython3",
   "version": "3.11.5"
  },
  "orig_nbformat": 4
 },
 "nbformat": 4,
 "nbformat_minor": 2
}
